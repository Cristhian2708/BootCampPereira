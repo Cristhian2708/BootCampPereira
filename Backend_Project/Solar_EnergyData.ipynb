{
 "cells": [
  {
   "cell_type": "code",
   "execution_count": 85,
   "id": "1fe3984f",
   "metadata": {},
   "outputs": [],
   "source": [
    "import matplotlib.pyplot as plt\n",
    "import numpy as np\n",
    "import pandas as pd\n"
   ]
  },
  {
   "cell_type": "code",
   "execution_count": 86,
   "id": "f7152463",
   "metadata": {},
   "outputs": [
    {
     "data": {
      "text/html": [
       "<div>\n",
       "<style scoped>\n",
       "    .dataframe tbody tr th:only-of-type {\n",
       "        vertical-align: middle;\n",
       "    }\n",
       "\n",
       "    .dataframe tbody tr th {\n",
       "        vertical-align: top;\n",
       "    }\n",
       "\n",
       "    .dataframe thead th {\n",
       "        text-align: right;\n",
       "    }\n",
       "</style>\n",
       "<table border=\"1\" class=\"dataframe\">\n",
       "  <thead>\n",
       "    <tr style=\"text-align: right;\">\n",
       "      <th></th>\n",
       "      <th>Entity</th>\n",
       "      <th>Code</th>\n",
       "      <th>Year</th>\n",
       "      <th>Electricity from solar (TWh)</th>\n",
       "    </tr>\n",
       "  </thead>\n",
       "  <tbody>\n",
       "    <tr>\n",
       "      <th>0</th>\n",
       "      <td>Afghanistan</td>\n",
       "      <td>AFG</td>\n",
       "      <td>2000</td>\n",
       "      <td>0.00</td>\n",
       "    </tr>\n",
       "    <tr>\n",
       "      <th>1</th>\n",
       "      <td>Afghanistan</td>\n",
       "      <td>AFG</td>\n",
       "      <td>2001</td>\n",
       "      <td>0.00</td>\n",
       "    </tr>\n",
       "    <tr>\n",
       "      <th>2</th>\n",
       "      <td>Afghanistan</td>\n",
       "      <td>AFG</td>\n",
       "      <td>2002</td>\n",
       "      <td>0.00</td>\n",
       "    </tr>\n",
       "    <tr>\n",
       "      <th>3</th>\n",
       "      <td>Afghanistan</td>\n",
       "      <td>AFG</td>\n",
       "      <td>2003</td>\n",
       "      <td>0.00</td>\n",
       "    </tr>\n",
       "    <tr>\n",
       "      <th>4</th>\n",
       "      <td>Afghanistan</td>\n",
       "      <td>AFG</td>\n",
       "      <td>2004</td>\n",
       "      <td>0.00</td>\n",
       "    </tr>\n",
       "    <tr>\n",
       "      <th>...</th>\n",
       "      <td>...</td>\n",
       "      <td>...</td>\n",
       "      <td>...</td>\n",
       "      <td>...</td>\n",
       "    </tr>\n",
       "    <tr>\n",
       "      <th>8678</th>\n",
       "      <td>Zimbabwe</td>\n",
       "      <td>ZWE</td>\n",
       "      <td>2017</td>\n",
       "      <td>0.01</td>\n",
       "    </tr>\n",
       "    <tr>\n",
       "      <th>8679</th>\n",
       "      <td>Zimbabwe</td>\n",
       "      <td>ZWE</td>\n",
       "      <td>2018</td>\n",
       "      <td>0.02</td>\n",
       "    </tr>\n",
       "    <tr>\n",
       "      <th>8680</th>\n",
       "      <td>Zimbabwe</td>\n",
       "      <td>ZWE</td>\n",
       "      <td>2019</td>\n",
       "      <td>0.03</td>\n",
       "    </tr>\n",
       "    <tr>\n",
       "      <th>8681</th>\n",
       "      <td>Zimbabwe</td>\n",
       "      <td>ZWE</td>\n",
       "      <td>2020</td>\n",
       "      <td>0.03</td>\n",
       "    </tr>\n",
       "    <tr>\n",
       "      <th>8682</th>\n",
       "      <td>Zimbabwe</td>\n",
       "      <td>ZWE</td>\n",
       "      <td>2021</td>\n",
       "      <td>0.04</td>\n",
       "    </tr>\n",
       "  </tbody>\n",
       "</table>\n",
       "<p>8683 rows × 4 columns</p>\n",
       "</div>"
      ],
      "text/plain": [
       "           Entity Code  Year  Electricity from solar (TWh)\n",
       "0     Afghanistan  AFG  2000                          0.00\n",
       "1     Afghanistan  AFG  2001                          0.00\n",
       "2     Afghanistan  AFG  2002                          0.00\n",
       "3     Afghanistan  AFG  2003                          0.00\n",
       "4     Afghanistan  AFG  2004                          0.00\n",
       "...           ...  ...   ...                           ...\n",
       "8678     Zimbabwe  ZWE  2017                          0.01\n",
       "8679     Zimbabwe  ZWE  2018                          0.02\n",
       "8680     Zimbabwe  ZWE  2019                          0.03\n",
       "8681     Zimbabwe  ZWE  2020                          0.03\n",
       "8682     Zimbabwe  ZWE  2021                          0.04\n",
       "\n",
       "[8683 rows x 4 columns]"
      ]
     },
     "execution_count": 86,
     "metadata": {},
     "output_type": "execute_result"
    }
   ],
   "source": [
    "file_path = \"12 solar-energy-consumption.csv\"\n",
    "Data = pd.read_csv(file_path)\n",
    "Data"
   ]
  },
  {
   "cell_type": "code",
   "execution_count": 87,
   "id": "324b5c73",
   "metadata": {},
   "outputs": [
    {
     "data": {
      "text/plain": [
       "0.8400000000000001"
      ]
     },
     "execution_count": 87,
     "metadata": {},
     "output_type": "execute_result"
    }
   ],
   "source": [
    "Group1 = Data.groupby(\"Entity\")\n",
    "COL_data = Group1.get_group(\"Colombia\")\n",
    "\n",
    "Max_Enegy_COL= np.sum(COL_data[\"Electricity from solar (TWh)\"])\n",
    "Max_Enegy_COL\n"
   ]
  },
  {
   "cell_type": "code",
   "execution_count": 88,
   "id": "6f132a09",
   "metadata": {},
   "outputs": [],
   "source": [
    "Group2 = Data.groupby(\"Entity\")\n",
    "CHN_data = Group2.get_group(\"China\")\n",
    "CHN_data\n",
    "Max_Enegy_CHN= np.sum(CHN_data[\"Electricity from solar (TWh)\"])"
   ]
  },
  {
   "cell_type": "code",
   "execution_count": 89,
   "id": "d58cf99f",
   "metadata": {},
   "outputs": [],
   "source": [
    "Group3 = Data.groupby(\"Entity\")\n",
    "USA_data = Group3.get_group(\"United States\")\n",
    "USA_data\n",
    "Max_Enegy_USA= np.sum(USA_data[\"Electricity from solar (TWh)\"])"
   ]
  },
  {
   "cell_type": "code",
   "execution_count": 90,
   "id": "3ad157be",
   "metadata": {},
   "outputs": [],
   "source": [
    "Group4 = Data.groupby(\"Entity\")\n",
    "IND_data = Group4.get_group(\"India\")\n",
    "IND_data\n",
    "Max_Enegy_IND= np.sum(IND_data[\"Electricity from solar (TWh)\"])\n"
   ]
  },
  {
   "cell_type": "code",
   "execution_count": 91,
   "id": "7d01774d",
   "metadata": {},
   "outputs": [
    {
     "name": "stdout",
     "output_type": "stream",
     "text": [
      "     Entity Code  Year  Electricity from solar (TWh)\n",
      "3992  Japan  JPN  1965                      0.000000\n",
      "3993  Japan  JPN  1966                      0.000000\n",
      "3994  Japan  JPN  1967                      0.000000\n",
      "3995  Japan  JPN  1968                      0.000000\n",
      "3996  Japan  JPN  1969                      0.000000\n",
      "3997  Japan  JPN  1970                      0.000000\n",
      "3998  Japan  JPN  1971                      0.000000\n",
      "3999  Japan  JPN  1972                      0.000000\n",
      "4000  Japan  JPN  1973                      0.000000\n",
      "4001  Japan  JPN  1974                      0.000000\n",
      "4002  Japan  JPN  1975                      0.000000\n",
      "4003  Japan  JPN  1976                      0.000000\n",
      "4004  Japan  JPN  1977                      0.000000\n",
      "4005  Japan  JPN  1978                      0.000000\n",
      "4006  Japan  JPN  1979                      0.000000\n",
      "4007  Japan  JPN  1980                      0.000000\n",
      "4008  Japan  JPN  1981                      0.000000\n",
      "4009  Japan  JPN  1982                      0.000000\n",
      "4010  Japan  JPN  1983                      0.000000\n",
      "4011  Japan  JPN  1984                      0.000000\n",
      "4012  Japan  JPN  1985                      0.000000\n",
      "4013  Japan  JPN  1986                      0.000000\n",
      "4014  Japan  JPN  1987                      0.000000\n",
      "4015  Japan  JPN  1988                      0.000000\n",
      "4016  Japan  JPN  1989                      0.000000\n",
      "4017  Japan  JPN  1990                      0.001000\n",
      "4018  Japan  JPN  1991                      0.001000\n",
      "4019  Japan  JPN  1992                      0.010500\n",
      "4020  Japan  JPN  1993                      0.022500\n",
      "4021  Japan  JPN  1994                      0.029000\n",
      "4022  Japan  JPN  1995                      0.039500\n",
      "4023  Japan  JPN  1996                      0.054500\n",
      "4024  Japan  JPN  1997                      0.096303\n",
      "4025  Japan  JPN  1998                      0.143246\n",
      "4026  Japan  JPN  1999                      0.218025\n",
      "4027  Japan  JPN  2000                      0.350000\n",
      "4028  Japan  JPN  2001                      0.470000\n",
      "4029  Japan  JPN  2002                      0.670000\n",
      "4030  Japan  JPN  2003                      0.900000\n",
      "4031  Japan  JPN  2004                      1.190000\n",
      "4032  Japan  JPN  2005                      1.490000\n",
      "4033  Japan  JPN  2006                      1.790000\n",
      "4034  Japan  JPN  2007                      2.020000\n",
      "4035  Japan  JPN  2008                      2.250000\n",
      "4036  Japan  JPN  2009                      2.760000\n",
      "4037  Japan  JPN  2010                      3.540000\n",
      "4038  Japan  JPN  2011                      4.840000\n",
      "4039  Japan  JPN  2012                      6.610000\n",
      "4040  Japan  JPN  2013                     12.880000\n",
      "4041  Japan  JPN  2014                     22.950000\n",
      "4042  Japan  JPN  2015                     34.800000\n",
      "4043  Japan  JPN  2016                     45.760000\n",
      "4044  Japan  JPN  2017                     55.070000\n",
      "4045  Japan  JPN  2018                     62.670000\n",
      "4046  Japan  JPN  2019                     69.380000\n",
      "4047  Japan  JPN  2020                     79.090000\n",
      "4048  Japan  JPN  2021                     88.700000 500.795574095\n"
     ]
    }
   ],
   "source": [
    "Group5 = Data.groupby(\"Entity\")\n",
    "JPN_data = Group5.get_group(\"Japan\")\n",
    "JPN_data\n",
    "Max_Enegy_JPN= np.sum(JPN_data[\"Electricity from solar (TWh)\"])\n",
    "\n",
    "print(JPN_data, Max_Enegy_JPN)\n"
   ]
  },
  {
   "cell_type": "code",
   "execution_count": 92,
   "id": "0eb9f477",
   "metadata": {},
   "outputs": [
    {
     "name": "stdout",
     "output_type": "stream",
     "text": [
      "['CHN', 'COL', 'IND', 'JPN', 'USA']\n"
     ]
    },
    {
     "data": {
      "image/png": "[encoded data removed]",
      "text/plain": [
       "<Figure size 640x480 with 1 Axes>"
      ]
     },
     "metadata": {},
     "output_type": "display_data"
    }
   ],
   "source": [
    "values = [Max_Enegy_CHN,\n",
    "           Max_Enegy_COL,\n",
    "           Max_Enegy_IND,\n",
    "           Max_Enegy_JPN,\n",
    "           Max_Enegy_USA]\n",
    "etiquetas = ['CHN', 'COL', 'IND', 'JPN', 'USA']\n",
    "print(etiquetas)\n",
    "fig, ax = plt.subplots()\n",
    "plt.pie(values, labels=etiquetas, autopct='%.2f%%')\n",
    "plt.show()"
   ]
  },
  {
   "cell_type": "code",
   "execution_count": 93,
   "id": "455fee55",
   "metadata": {},
   "outputs": [
    {
     "data": {
      "text/html": [
       "<div>\n",
       "<style scoped>\n",
       "    .dataframe tbody tr th:only-of-type {\n",
       "        vertical-align: middle;\n",
       "    }\n",
       "\n",
       "    .dataframe tbody tr th {\n",
       "        vertical-align: top;\n",
       "    }\n",
       "\n",
       "    .dataframe thead th {\n",
       "        text-align: right;\n",
       "    }\n",
       "</style>\n",
       "<table border=\"1\" class=\"dataframe\">\n",
       "  <thead>\n",
       "    <tr style=\"text-align: right;\">\n",
       "      <th></th>\n",
       "      <th>Entity</th>\n",
       "      <th>Code</th>\n",
       "      <th>Year</th>\n",
       "      <th>Electricity from solar (TWh)</th>\n",
       "    </tr>\n",
       "  </thead>\n",
       "  <tbody>\n",
       "    <tr>\n",
       "      <th>1578</th>\n",
       "      <td>China</td>\n",
       "      <td>CHN</td>\n",
       "      <td>1965</td>\n",
       "      <td>0.00</td>\n",
       "    </tr>\n",
       "    <tr>\n",
       "      <th>1579</th>\n",
       "      <td>China</td>\n",
       "      <td>CHN</td>\n",
       "      <td>1966</td>\n",
       "      <td>0.00</td>\n",
       "    </tr>\n",
       "    <tr>\n",
       "      <th>1580</th>\n",
       "      <td>China</td>\n",
       "      <td>CHN</td>\n",
       "      <td>1967</td>\n",
       "      <td>0.00</td>\n",
       "    </tr>\n",
       "    <tr>\n",
       "      <th>1581</th>\n",
       "      <td>China</td>\n",
       "      <td>CHN</td>\n",
       "      <td>1968</td>\n",
       "      <td>0.00</td>\n",
       "    </tr>\n",
       "    <tr>\n",
       "      <th>1582</th>\n",
       "      <td>China</td>\n",
       "      <td>CHN</td>\n",
       "      <td>1969</td>\n",
       "      <td>0.00</td>\n",
       "    </tr>\n",
       "    <tr>\n",
       "      <th>...</th>\n",
       "      <td>...</td>\n",
       "      <td>...</td>\n",
       "      <td>...</td>\n",
       "      <td>...</td>\n",
       "    </tr>\n",
       "    <tr>\n",
       "      <th>8213</th>\n",
       "      <td>United States</td>\n",
       "      <td>USA</td>\n",
       "      <td>2017</td>\n",
       "      <td>77.28</td>\n",
       "    </tr>\n",
       "    <tr>\n",
       "      <th>8214</th>\n",
       "      <td>United States</td>\n",
       "      <td>USA</td>\n",
       "      <td>2018</td>\n",
       "      <td>93.36</td>\n",
       "    </tr>\n",
       "    <tr>\n",
       "      <th>8215</th>\n",
       "      <td>United States</td>\n",
       "      <td>USA</td>\n",
       "      <td>2019</td>\n",
       "      <td>106.89</td>\n",
       "    </tr>\n",
       "    <tr>\n",
       "      <th>8216</th>\n",
       "      <td>United States</td>\n",
       "      <td>USA</td>\n",
       "      <td>2020</td>\n",
       "      <td>130.72</td>\n",
       "    </tr>\n",
       "    <tr>\n",
       "      <th>8217</th>\n",
       "      <td>United States</td>\n",
       "      <td>USA</td>\n",
       "      <td>2021</td>\n",
       "      <td>164.42</td>\n",
       "    </tr>\n",
       "  </tbody>\n",
       "</table>\n",
       "<p>285 rows × 4 columns</p>\n",
       "</div>"
      ],
      "text/plain": [
       "             Entity Code  Year  Electricity from solar (TWh)\n",
       "1578          China  CHN  1965                          0.00\n",
       "1579          China  CHN  1966                          0.00\n",
       "1580          China  CHN  1967                          0.00\n",
       "1581          China  CHN  1968                          0.00\n",
       "1582          China  CHN  1969                          0.00\n",
       "...             ...  ...   ...                           ...\n",
       "8213  United States  USA  2017                         77.28\n",
       "8214  United States  USA  2018                         93.36\n",
       "8215  United States  USA  2019                        106.89\n",
       "8216  United States  USA  2020                        130.72\n",
       "8217  United States  USA  2021                        164.42\n",
       "\n",
       "[285 rows x 4 columns]"
      ]
     },
     "execution_count": 93,
     "metadata": {},
     "output_type": "execute_result"
    }
   ],
   "source": [
    "filtered_countries = Data[Data['Entity'].isin(['Colombia', 'China', 'Japan', 'India', 'United States'])]\n",
    "filtered_countries"
   ]
  },
  {
   "cell_type": "code",
   "execution_count": 94,
   "id": "11514963",
   "metadata": {
    "vscode": {
     "languageId": "javascript"
    }
   },
   "outputs": [
    {
     "data": {
      "text/html": [
       "<div>\n",
       "<style scoped>\n",
       "    .dataframe tbody tr th:only-of-type {\n",
       "        vertical-align: middle;\n",
       "    }\n",
       "\n",
       "    .dataframe tbody tr th {\n",
       "        vertical-align: top;\n",
       "    }\n",
       "\n",
       "    .dataframe thead th {\n",
       "        text-align: right;\n",
       "    }\n",
       "</style>\n",
       "<table border=\"1\" class=\"dataframe\">\n",
       "  <thead>\n",
       "    <tr style=\"text-align: right;\">\n",
       "      <th></th>\n",
       "      <th>Country</th>\n",
       "      <th>Max_Energy</th>\n",
       "    </tr>\n",
       "  </thead>\n",
       "  <tbody>\n",
       "    <tr>\n",
       "      <th>0</th>\n",
       "      <td>China</td>\n",
       "      <td>1252.614000</td>\n",
       "    </tr>\n",
       "    <tr>\n",
       "      <th>1</th>\n",
       "      <td>Colombia</td>\n",
       "      <td>0.840000</td>\n",
       "    </tr>\n",
       "    <tr>\n",
       "      <th>2</th>\n",
       "      <td>India</td>\n",
       "      <td>260.965253</td>\n",
       "    </tr>\n",
       "    <tr>\n",
       "      <th>3</th>\n",
       "      <td>Japan</td>\n",
       "      <td>500.795574</td>\n",
       "    </tr>\n",
       "    <tr>\n",
       "      <th>4</th>\n",
       "      <td>United States</td>\n",
       "      <td>723.172570</td>\n",
       "    </tr>\n",
       "  </tbody>\n",
       "</table>\n",
       "</div>"
      ],
      "text/plain": [
       "         Country   Max_Energy\n",
       "0          China  1252.614000\n",
       "1       Colombia     0.840000\n",
       "2          India   260.965253\n",
       "3          Japan   500.795574\n",
       "4  United States   723.172570"
      ]
     },
     "execution_count": 94,
     "metadata": {},
     "output_type": "execute_result"
    }
   ],
   "source": [
    "max_values = {\n",
    "    'Country': ['China', 'Colombia', 'India', 'Japan', 'United States'],\n",
    "    'Max_Energy': [Max_Enegy_CHN, Max_Enegy_COL, Max_Enegy_IND, Max_Enegy_JPN, Max_Enegy_USA]\n",
    "}\n",
    "\n",
    "max_values_DataFrame = pd.DataFrame(max_values)\n",
    "max_values_DataFrame"
   ]
  },
  {
   "cell_type": "code",
   "execution_count": null,
   "id": "aec6ab09",
   "metadata": {},
   "outputs": [
    {
     "ename": "NameError",
     "evalue": "name 'max_values_df' is not defined",
     "output_type": "error",
     "traceback": [
      "\u001b[31m---------------------------------------------------------------------------\u001b[39m",
      "\u001b[31mNameError\u001b[39m                                 Traceback (most recent call last)",
      "\u001b[36mCell\u001b[39m\u001b[36m \u001b[39m\u001b[32mIn[96]\u001b[39m\u001b[32m, line 1\u001b[39m\n\u001b[32m----> \u001b[39m\u001b[32m1\u001b[39m max_values_DataFrame_sorted = \u001b[43mmax_values_df\u001b[49m.sort_values(by=\u001b[33m'\u001b[39m\u001b[33mMax_Energy\u001b[39m\u001b[33m'\u001b[39m, ascending=\u001b[38;5;28;01mFalse\u001b[39;00m)\n\u001b[32m      4\u001b[39m plt.figure(figsize=(\u001b[32m10\u001b[39m, \u001b[32m6\u001b[39m))\n\u001b[32m      5\u001b[39m bars = plt.bar(max_values_DataFrame_sorted[\u001b[33m'\u001b[39m\u001b[33mCountry\u001b[39m\u001b[33m'\u001b[39m], max_values_DataFrame_sorted[\u001b[33m'\u001b[39m\u001b[33mMax_Energy\u001b[39m\u001b[33m'\u001b[39m], color=[\u001b[33m'\u001b[39m\u001b[33mgray\u001b[39m\u001b[33m'\u001b[39m, \u001b[33m'\u001b[39m\u001b[33mred\u001b[39m\u001b[33m'\u001b[39m, \u001b[33m'\u001b[39m\u001b[33morange\u001b[39m\u001b[33m'\u001b[39m, \u001b[33m'\u001b[39m\u001b[33myellow\u001b[39m\u001b[33m'\u001b[39m, \u001b[33m'\u001b[39m\u001b[33mgreen\u001b[39m\u001b[33m'\u001b[39m])\n",
      "\u001b[31mNameError\u001b[39m: name 'max_values_df' is not defined"
     ]
    }
   ],
   "source": [
    "max_values_DataFrame_sorted = max_values_df.sort_values(by='Max_Energy', ascending=False)\n",
    "\n",
    "\n",
    "plt.figure(figsize=(10, 6))\n",
    "bars = plt.bar(max_values_DataFrame_sorted['Country'], max_values_DataFrame_sorted['Max_Energy'], color=['gray', 'red', 'orange', 'yellow', 'green'])\n",
    "plt.xlabel('Countries')\n",
    "plt.ylabel('Solar Produced Energy (TWh)')\n",
    "plt.title('Solar Energy Production by Country (Sorted)')\n",
    "plt.xticks(rotation=45)\n",
    "\n",
    "for bar in bars:\n",
    "    height = bar.get_height()\n",
    "    plt.text(bar.get_x() + bar.get_width() / 2, height, f'{height:.2f}', ha='center', va='bottom')\n",
    "\n",
    "plt.tight_layout()\n",
    "plt.show()"
   ]
  },
  {
   "cell_type": "code",
   "execution_count": null,
   "id": "59e828e3",
   "metadata": {},
   "outputs": [
    {
     "data": {
      "image/png": "[encoded data removed]",
      "text/plain": [
       "<Figure size 1200x600 with 1 Axes>"
      ]
     },
     "metadata": {},
     "output_type": "display_data"
    }
   ],
   "source": [
    "plt.figure(figsize=(12, 6))\n",
    "\n",
    "for country in ['Colombia', 'China', 'Japan', 'India', 'United States']:\n",
    "    country_data = filtered_countries[filtered_countries['Entity'] == country]\n",
    "    plt.plot(country_data['Year'], country_data['Electricity from solar (TWh)'], label=country)\n",
    "\n",
    "plt.xlabel('Year')\n",
    "plt.ylabel('Electricity from Solar (TWh)')\n",
    "plt.title('Electricity from Solar Energy Over Time')\n",
    "plt.legend()\n",
    "plt.grid(True)\n",
    "plt.tight_layout()\n",
    "plt.show()"
   ]
  },
  {
   "cell_type": "code",
   "execution_count": null,
   "id": "6a8b08e9",
   "metadata": {},
   "outputs": [
    {
     "name": "stdout",
     "output_type": "stream",
     "text": [
      "Index(['Entity', 'Code', 'Year', 'Electricity from solar (TWh)'], dtype='object')\n"
     ]
    }
   ],
   "source": [
    "df = pd.read_csv(\"12 solar-energy-consumption.csv\")\n",
    "print(df.columns)"
   ]
  }
 ],
 "metadata": {
  "kernelspec": {
   "display_name": "base",
   "language": "python",
   "name": "python3"
  },
  "language_info": {
   "codemirror_mode": {
    "name": "ipython",
    "version": 3
   },
   "file_extension": ".py",
   "mimetype": "text/x-python",
   "name": "python",
   "nbconvert_exporter": "python",
   "pygments_lexer": "ipython3",
   "version": "3.12.7"
  }
 },
 "nbformat": 4,
 "nbformat_minor": 5
}
